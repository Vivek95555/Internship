{
 "cells": [
  {
   "cell_type": "code",
   "execution_count": 1,
   "id": "fc97a9df",
   "metadata": {},
   "outputs": [],
   "source": [
    "import pandas as pd\n"
   ]
  },
  {
   "cell_type": "code",
   "execution_count": 2,
   "id": "e595cea2",
   "metadata": {},
   "outputs": [],
   "source": [
    "df1=pd.read_csv(r\"C:\\datasets\\gaer box\\b30hz0.csv\")\n",
    "df1['load']=0"
   ]
  },
  {
   "cell_type": "code",
   "execution_count": 3,
   "id": "424937da",
   "metadata": {},
   "outputs": [],
   "source": [
    "df2=pd.read_csv(r\"C:\\datasets\\gaer box\\b30hz10.csv\")\n",
    "df2['load']=10"
   ]
  },
  {
   "cell_type": "code",
   "execution_count": 4,
   "id": "a3410fdb",
   "metadata": {},
   "outputs": [],
   "source": [
    "df3=pd.read_csv(r\"C:\\datasets\\gaer box\\b30hz20.csv\")\n",
    "df3['load']=20"
   ]
  },
  {
   "cell_type": "code",
   "execution_count": 5,
   "id": "bc63ade0",
   "metadata": {},
   "outputs": [],
   "source": [
    "df4=pd.read_csv(r\"C:\\datasets\\gaer box\\b30hz30.csv\")\n",
    "df4['load']=30"
   ]
  },
  {
   "cell_type": "code",
   "execution_count": 6,
   "id": "f6676f2f",
   "metadata": {},
   "outputs": [],
   "source": [
    "df5=pd.read_csv(r\"C:\\datasets\\gaer box\\b30hz40.csv\")\n",
    "df5['load']=40"
   ]
  },
  {
   "cell_type": "code",
   "execution_count": 7,
   "id": "57c30226",
   "metadata": {},
   "outputs": [],
   "source": [
    "df6=pd.read_csv(r\"C:\\datasets\\gaer box\\b30hz50.csv\")\n",
    "df6['load']=50"
   ]
  },
  {
   "cell_type": "code",
   "execution_count": 8,
   "id": "559a7acf",
   "metadata": {},
   "outputs": [],
   "source": [
    "df7=pd.read_csv(r\"C:\\datasets\\gaer box\\b30hz60.csv\")\n",
    "df7['load']=60"
   ]
  },
  {
   "cell_type": "code",
   "execution_count": 9,
   "id": "fee570b3",
   "metadata": {},
   "outputs": [],
   "source": [
    "df8=pd.read_csv(r\"C:\\datasets\\gaer box\\b30hz70.csv\")\n",
    "df8['load']=70"
   ]
  },
  {
   "cell_type": "code",
   "execution_count": 10,
   "id": "4e157de5",
   "metadata": {},
   "outputs": [],
   "source": [
    "df9=pd.read_csv(r\"C:\\datasets\\gaer box\\b30hz80.csv\")\n",
    "df9['load']=80"
   ]
  },
  {
   "cell_type": "code",
   "execution_count": 11,
   "id": "b60e6e74",
   "metadata": {},
   "outputs": [],
   "source": [
    "df10=pd.read_csv(r\"C:\\datasets\\gaer box\\b30hz90.csv\")\n",
    "df10['load']=90"
   ]
  },
  {
   "cell_type": "code",
   "execution_count": 12,
   "id": "498f7bb8",
   "metadata": {},
   "outputs": [
    {
     "data": {
      "text/plain": [
       "(88320, 111616, 114432, 89856, 94464, 94208, 95488, 100864, 110335, 105728)"
      ]
     },
     "execution_count": 12,
     "metadata": {},
     "output_type": "execute_result"
    }
   ],
   "source": [
    "df1.shape[0],df2.shape[0],df3.shape[0],df4.shape[0],df5.shape[0],df6.shape[0],df7.shape[0],df8.shape[0],df9.shape[0],df10.shape[0]"
   ]
  },
  {
   "cell_type": "code",
   "execution_count": 13,
   "id": "923246d5",
   "metadata": {},
   "outputs": [
    {
     "data": {
      "text/plain": [
       "1005311"
      ]
     },
     "execution_count": 13,
     "metadata": {},
     "output_type": "execute_result"
    }
   ],
   "source": [
    "88320+111616+114432+89856+94464+94208+95488+100864+110335+105728"
   ]
  },
  {
   "cell_type": "code",
   "execution_count": 14,
   "id": "9b8dc1a0",
   "metadata": {},
   "outputs": [],
   "source": [
    "b1=pd.concat([df1,df2,df3,df4,df5,df6,df7,df8,df9,df10])"
   ]
  },
  {
   "cell_type": "code",
   "execution_count": 15,
   "id": "6d28224b",
   "metadata": {},
   "outputs": [
    {
     "data": {
      "text/plain": [
       "(1005311, 5)"
      ]
     },
     "execution_count": 15,
     "metadata": {},
     "output_type": "execute_result"
    }
   ],
   "source": [
    "b1.shape"
   ]
  },
  {
   "cell_type": "code",
   "execution_count": 16,
   "id": "be37e227",
   "metadata": {},
   "outputs": [
    {
     "data": {
      "text/html": [
       "<div>\n",
       "<style scoped>\n",
       "    .dataframe tbody tr th:only-of-type {\n",
       "        vertical-align: middle;\n",
       "    }\n",
       "\n",
       "    .dataframe tbody tr th {\n",
       "        vertical-align: top;\n",
       "    }\n",
       "\n",
       "    .dataframe thead th {\n",
       "        text-align: right;\n",
       "    }\n",
       "</style>\n",
       "<table border=\"1\" class=\"dataframe\">\n",
       "  <thead>\n",
       "    <tr style=\"text-align: right;\">\n",
       "      <th></th>\n",
       "      <th>a1</th>\n",
       "      <th>a2</th>\n",
       "      <th>a3</th>\n",
       "      <th>a4</th>\n",
       "      <th>load</th>\n",
       "    </tr>\n",
       "  </thead>\n",
       "  <tbody>\n",
       "    <tr>\n",
       "      <th>0</th>\n",
       "      <td>2.350390</td>\n",
       "      <td>1.454870</td>\n",
       "      <td>-1.667080</td>\n",
       "      <td>-2.055610</td>\n",
       "      <td>0</td>\n",
       "    </tr>\n",
       "    <tr>\n",
       "      <th>1</th>\n",
       "      <td>2.452970</td>\n",
       "      <td>1.400100</td>\n",
       "      <td>-2.825100</td>\n",
       "      <td>0.984487</td>\n",
       "      <td>0</td>\n",
       "    </tr>\n",
       "    <tr>\n",
       "      <th>2</th>\n",
       "      <td>-0.241284</td>\n",
       "      <td>-0.267390</td>\n",
       "      <td>0.793540</td>\n",
       "      <td>0.605862</td>\n",
       "      <td>0</td>\n",
       "    </tr>\n",
       "    <tr>\n",
       "      <th>3</th>\n",
       "      <td>1.130270</td>\n",
       "      <td>-0.890918</td>\n",
       "      <td>0.696969</td>\n",
       "      <td>0.613068</td>\n",
       "      <td>0</td>\n",
       "    </tr>\n",
       "    <tr>\n",
       "      <th>4</th>\n",
       "      <td>-1.296140</td>\n",
       "      <td>0.980479</td>\n",
       "      <td>-1.130560</td>\n",
       "      <td>-0.346971</td>\n",
       "      <td>0</td>\n",
       "    </tr>\n",
       "  </tbody>\n",
       "</table>\n",
       "</div>"
      ],
      "text/plain": [
       "         a1        a2        a3        a4  load\n",
       "0  2.350390  1.454870 -1.667080 -2.055610     0\n",
       "1  2.452970  1.400100 -2.825100  0.984487     0\n",
       "2 -0.241284 -0.267390  0.793540  0.605862     0\n",
       "3  1.130270 -0.890918  0.696969  0.613068     0\n",
       "4 -1.296140  0.980479 -1.130560 -0.346971     0"
      ]
     },
     "execution_count": 16,
     "metadata": {},
     "output_type": "execute_result"
    }
   ],
   "source": [
    "b1.head()"
   ]
  },
  {
   "cell_type": "code",
   "execution_count": 17,
   "id": "752705bd",
   "metadata": {},
   "outputs": [
    {
     "data": {
      "text/plain": [
       "(1005311, 6)"
      ]
     },
     "execution_count": 17,
     "metadata": {},
     "output_type": "execute_result"
    }
   ],
   "source": [
    "b1['state']='b'\n",
    "b1.shape"
   ]
  },
  {
   "cell_type": "code",
   "execution_count": 18,
   "id": "7ce29463",
   "metadata": {},
   "outputs": [
    {
     "data": {
      "text/html": [
       "<div>\n",
       "<style scoped>\n",
       "    .dataframe tbody tr th:only-of-type {\n",
       "        vertical-align: middle;\n",
       "    }\n",
       "\n",
       "    .dataframe tbody tr th {\n",
       "        vertical-align: top;\n",
       "    }\n",
       "\n",
       "    .dataframe thead th {\n",
       "        text-align: right;\n",
       "    }\n",
       "</style>\n",
       "<table border=\"1\" class=\"dataframe\">\n",
       "  <thead>\n",
       "    <tr style=\"text-align: right;\">\n",
       "      <th></th>\n",
       "      <th>a1</th>\n",
       "      <th>a2</th>\n",
       "      <th>a3</th>\n",
       "      <th>a4</th>\n",
       "      <th>load</th>\n",
       "      <th>state</th>\n",
       "    </tr>\n",
       "  </thead>\n",
       "  <tbody>\n",
       "    <tr>\n",
       "      <th>0</th>\n",
       "      <td>2.350390</td>\n",
       "      <td>1.454870</td>\n",
       "      <td>-1.667080</td>\n",
       "      <td>-2.055610</td>\n",
       "      <td>0</td>\n",
       "      <td>b</td>\n",
       "    </tr>\n",
       "    <tr>\n",
       "      <th>1</th>\n",
       "      <td>2.452970</td>\n",
       "      <td>1.400100</td>\n",
       "      <td>-2.825100</td>\n",
       "      <td>0.984487</td>\n",
       "      <td>0</td>\n",
       "      <td>b</td>\n",
       "    </tr>\n",
       "    <tr>\n",
       "      <th>2</th>\n",
       "      <td>-0.241284</td>\n",
       "      <td>-0.267390</td>\n",
       "      <td>0.793540</td>\n",
       "      <td>0.605862</td>\n",
       "      <td>0</td>\n",
       "      <td>b</td>\n",
       "    </tr>\n",
       "    <tr>\n",
       "      <th>3</th>\n",
       "      <td>1.130270</td>\n",
       "      <td>-0.890918</td>\n",
       "      <td>0.696969</td>\n",
       "      <td>0.613068</td>\n",
       "      <td>0</td>\n",
       "      <td>b</td>\n",
       "    </tr>\n",
       "    <tr>\n",
       "      <th>4</th>\n",
       "      <td>-1.296140</td>\n",
       "      <td>0.980479</td>\n",
       "      <td>-1.130560</td>\n",
       "      <td>-0.346971</td>\n",
       "      <td>0</td>\n",
       "      <td>b</td>\n",
       "    </tr>\n",
       "  </tbody>\n",
       "</table>\n",
       "</div>"
      ],
      "text/plain": [
       "         a1        a2        a3        a4  load state\n",
       "0  2.350390  1.454870 -1.667080 -2.055610     0     b\n",
       "1  2.452970  1.400100 -2.825100  0.984487     0     b\n",
       "2 -0.241284 -0.267390  0.793540  0.605862     0     b\n",
       "3  1.130270 -0.890918  0.696969  0.613068     0     b\n",
       "4 -1.296140  0.980479 -1.130560 -0.346971     0     b"
      ]
     },
     "execution_count": 18,
     "metadata": {},
     "output_type": "execute_result"
    }
   ],
   "source": [
    "b1.head()"
   ]
  },
  {
   "cell_type": "code",
   "execution_count": 19,
   "id": "0fdc237f",
   "metadata": {},
   "outputs": [],
   "source": [
    "df11=pd.read_csv(r\"C:\\datasets\\gaer box\\h30hz0.csv\")\n",
    "df11['load']=0"
   ]
  },
  {
   "cell_type": "code",
   "execution_count": 20,
   "id": "53e3c6af",
   "metadata": {},
   "outputs": [],
   "source": [
    "df12=pd.read_csv(r\"C:\\datasets\\gaer box\\h30hz10.csv\")\n",
    "df12['load']=10"
   ]
  },
  {
   "cell_type": "code",
   "execution_count": 21,
   "id": "2acd572e",
   "metadata": {},
   "outputs": [],
   "source": [
    "df13=pd.read_csv(r\"C:\\datasets\\gaer box\\h30hz20.csv\")\n",
    "df13['load']=20"
   ]
  },
  {
   "cell_type": "code",
   "execution_count": 22,
   "id": "250123ec",
   "metadata": {},
   "outputs": [],
   "source": [
    "df14=pd.read_csv(r\"C:\\datasets\\gaer box\\h30hz30.csv\")\n",
    "df14['load']=30"
   ]
  },
  {
   "cell_type": "code",
   "execution_count": 23,
   "id": "6b71eedd",
   "metadata": {},
   "outputs": [],
   "source": [
    "df15=pd.read_csv(r\"C:\\datasets\\gaer box\\h30hz40.csv\")\n",
    "df15['load']=40"
   ]
  },
  {
   "cell_type": "code",
   "execution_count": 24,
   "id": "23667d43",
   "metadata": {},
   "outputs": [],
   "source": [
    "df16=pd.read_csv(r\"C:\\datasets\\gaer box\\h30hz50.csv\")\n",
    "df16['load']=50"
   ]
  },
  {
   "cell_type": "code",
   "execution_count": 25,
   "id": "5821ddb9",
   "metadata": {},
   "outputs": [],
   "source": [
    "df17=pd.read_csv(r\"C:\\datasets\\gaer box\\h30hz60.csv\")\n",
    "df17['load']=60"
   ]
  },
  {
   "cell_type": "code",
   "execution_count": 26,
   "id": "3148b344",
   "metadata": {},
   "outputs": [],
   "source": [
    "df18=pd.read_csv(r\"C:\\datasets\\gaer box\\h30hz70.csv\")\n",
    "df18['load']=70"
   ]
  },
  {
   "cell_type": "code",
   "execution_count": 27,
   "id": "dcde35ed",
   "metadata": {},
   "outputs": [],
   "source": [
    "df19=pd.read_csv(r\"C:\\datasets\\gaer box\\h30hz80.csv\")\n",
    "df19['load']=80"
   ]
  },
  {
   "cell_type": "code",
   "execution_count": 28,
   "id": "0d6b64c7",
   "metadata": {},
   "outputs": [],
   "source": [
    "df20=pd.read_csv(r\"C:\\datasets\\gaer box\\h30hz90.csv\")\n",
    "df20['load']=90"
   ]
  },
  {
   "cell_type": "code",
   "execution_count": 29,
   "id": "5d0d979f",
   "metadata": {},
   "outputs": [
    {
     "data": {
      "text/plain": [
       "(88832, 92928, 108544, 106240, 100608, 110848, 99840, 101376, 99840, 106752)"
      ]
     },
     "execution_count": 29,
     "metadata": {},
     "output_type": "execute_result"
    }
   ],
   "source": [
    "df11.shape[0],df12.shape[0],df13.shape[0],df14.shape[0],df15.shape[0],df16.shape[0],df17.shape[0],df18.shape[0],df19.shape[0],df20.shape[0]"
   ]
  },
  {
   "cell_type": "code",
   "execution_count": 30,
   "id": "60395d65",
   "metadata": {},
   "outputs": [
    {
     "data": {
      "text/plain": [
       "1015808"
      ]
     },
     "execution_count": 30,
     "metadata": {},
     "output_type": "execute_result"
    }
   ],
   "source": [
    "88832+92928+108544+106240+100608+110848+99840+101376+99840+106752"
   ]
  },
  {
   "cell_type": "code",
   "execution_count": 67,
   "id": "75f2d67d",
   "metadata": {},
   "outputs": [],
   "source": [
    "h1=pd.concat([df11,df12,df13,df14,df15,df16,df17,df18,df19,df20])"
   ]
  },
  {
   "cell_type": "code",
   "execution_count": 68,
   "id": "8fa33602",
   "metadata": {},
   "outputs": [
    {
     "data": {
      "text/plain": [
       "(1015808, 6)"
      ]
     },
     "execution_count": 68,
     "metadata": {},
     "output_type": "execute_result"
    }
   ],
   "source": [
    "h1['state']='h'\n",
    "h1.shape"
   ]
  },
  {
   "cell_type": "code",
   "execution_count": 66,
   "id": "47eda7ee",
   "metadata": {},
   "outputs": [
    {
     "data": {
      "text/html": [
       "<div>\n",
       "<style scoped>\n",
       "    .dataframe tbody tr th:only-of-type {\n",
       "        vertical-align: middle;\n",
       "    }\n",
       "\n",
       "    .dataframe tbody tr th {\n",
       "        vertical-align: top;\n",
       "    }\n",
       "\n",
       "    .dataframe thead th {\n",
       "        text-align: right;\n",
       "    }\n",
       "</style>\n",
       "<table border=\"1\" class=\"dataframe\">\n",
       "  <thead>\n",
       "    <tr style=\"text-align: right;\">\n",
       "      <th></th>\n",
       "      <th>a1</th>\n",
       "      <th>a2</th>\n",
       "      <th>a3</th>\n",
       "      <th>a4</th>\n",
       "      <th>load</th>\n",
       "      <th>state</th>\n",
       "    </tr>\n",
       "  </thead>\n",
       "  <tbody>\n",
       "    <tr>\n",
       "      <th>106747</th>\n",
       "      <td>0.677448</td>\n",
       "      <td>-3.23441</td>\n",
       "      <td>-1.72599</td>\n",
       "      <td>-3.14302</td>\n",
       "      <td>90</td>\n",
       "      <td>h</td>\n",
       "    </tr>\n",
       "    <tr>\n",
       "      <th>106748</th>\n",
       "      <td>-10.575400</td>\n",
       "      <td>7.72540</td>\n",
       "      <td>-2.18401</td>\n",
       "      <td>2.56965</td>\n",
       "      <td>90</td>\n",
       "      <td>h</td>\n",
       "    </tr>\n",
       "    <tr>\n",
       "      <th>106749</th>\n",
       "      <td>-4.033290</td>\n",
       "      <td>2.57692</td>\n",
       "      <td>1.46843</td>\n",
       "      <td>2.72891</td>\n",
       "      <td>90</td>\n",
       "      <td>h</td>\n",
       "    </tr>\n",
       "    <tr>\n",
       "      <th>106750</th>\n",
       "      <td>1.868670</td>\n",
       "      <td>-5.08940</td>\n",
       "      <td>5.34229</td>\n",
       "      <td>-1.36563</td>\n",
       "      <td>90</td>\n",
       "      <td>h</td>\n",
       "    </tr>\n",
       "    <tr>\n",
       "      <th>106751</th>\n",
       "      <td>7.581480</td>\n",
       "      <td>6.20596</td>\n",
       "      <td>-6.12133</td>\n",
       "      <td>11.54830</td>\n",
       "      <td>90</td>\n",
       "      <td>h</td>\n",
       "    </tr>\n",
       "  </tbody>\n",
       "</table>\n",
       "</div>"
      ],
      "text/plain": [
       "               a1       a2       a3        a4  load state\n",
       "106747   0.677448 -3.23441 -1.72599  -3.14302    90     h\n",
       "106748 -10.575400  7.72540 -2.18401   2.56965    90     h\n",
       "106749  -4.033290  2.57692  1.46843   2.72891    90     h\n",
       "106750   1.868670 -5.08940  5.34229  -1.36563    90     h\n",
       "106751   7.581480  6.20596 -6.12133  11.54830    90     h"
      ]
     },
     "execution_count": 66,
     "metadata": {},
     "output_type": "execute_result"
    }
   ],
   "source": [
    "df.tail()"
   ]
  },
  {
   "cell_type": "code",
   "execution_count": 71,
   "id": "0ee4f81b",
   "metadata": {},
   "outputs": [],
   "source": [
    "df=pd.concat([h1,b1])"
   ]
  },
  {
   "cell_type": "code",
   "execution_count": 72,
   "id": "1be3ab20",
   "metadata": {},
   "outputs": [
    {
     "data": {
      "text/plain": [
       "(2031616, 6)"
      ]
     },
     "execution_count": 72,
     "metadata": {},
     "output_type": "execute_result"
    }
   ],
   "source": [
    "df.shape"
   ]
  },
  {
   "cell_type": "code",
   "execution_count": 73,
   "id": "4c8f0fe8",
   "metadata": {},
   "outputs": [],
   "source": [
    "df.drop_duplicates(inplace=True)"
   ]
  },
  {
   "cell_type": "code",
   "execution_count": 74,
   "id": "410cbba0",
   "metadata": {},
   "outputs": [
    {
     "data": {
      "text/plain": [
       "(1015808, 6)"
      ]
     },
     "execution_count": 74,
     "metadata": {},
     "output_type": "execute_result"
    }
   ],
   "source": [
    "df.shape"
   ]
  },
  {
   "cell_type": "code",
   "execution_count": 65,
   "id": "c7c25f67",
   "metadata": {},
   "outputs": [
    {
     "data": {
      "text/html": [
       "<div>\n",
       "<style scoped>\n",
       "    .dataframe tbody tr th:only-of-type {\n",
       "        vertical-align: middle;\n",
       "    }\n",
       "\n",
       "    .dataframe tbody tr th {\n",
       "        vertical-align: top;\n",
       "    }\n",
       "\n",
       "    .dataframe thead th {\n",
       "        text-align: right;\n",
       "    }\n",
       "</style>\n",
       "<table border=\"1\" class=\"dataframe\">\n",
       "  <thead>\n",
       "    <tr style=\"text-align: right;\">\n",
       "      <th></th>\n",
       "      <th>a1</th>\n",
       "      <th>a2</th>\n",
       "      <th>a3</th>\n",
       "      <th>a4</th>\n",
       "      <th>load</th>\n",
       "      <th>state</th>\n",
       "    </tr>\n",
       "  </thead>\n",
       "  <tbody>\n",
       "    <tr>\n",
       "      <th>95963</th>\n",
       "      <td>5.625170</td>\n",
       "      <td>-4.037420</td>\n",
       "      <td>0.545325</td>\n",
       "      <td>1.058100</td>\n",
       "      <td>80</td>\n",
       "      <td>h</td>\n",
       "    </tr>\n",
       "    <tr>\n",
       "      <th>75749</th>\n",
       "      <td>-2.154870</td>\n",
       "      <td>-2.007390</td>\n",
       "      <td>2.642950</td>\n",
       "      <td>2.795610</td>\n",
       "      <td>40</td>\n",
       "      <td>h</td>\n",
       "    </tr>\n",
       "    <tr>\n",
       "      <th>27234</th>\n",
       "      <td>-28.114000</td>\n",
       "      <td>2.430660</td>\n",
       "      <td>-3.334540</td>\n",
       "      <td>-8.453190</td>\n",
       "      <td>30</td>\n",
       "      <td>h</td>\n",
       "    </tr>\n",
       "    <tr>\n",
       "      <th>72971</th>\n",
       "      <td>0.071242</td>\n",
       "      <td>2.308260</td>\n",
       "      <td>-1.128090</td>\n",
       "      <td>2.755080</td>\n",
       "      <td>70</td>\n",
       "      <td>h</td>\n",
       "    </tr>\n",
       "    <tr>\n",
       "      <th>85056</th>\n",
       "      <td>8.902000</td>\n",
       "      <td>0.331709</td>\n",
       "      <td>-0.975257</td>\n",
       "      <td>-4.921800</td>\n",
       "      <td>80</td>\n",
       "      <td>h</td>\n",
       "    </tr>\n",
       "    <tr>\n",
       "      <th>84279</th>\n",
       "      <td>-1.879070</td>\n",
       "      <td>0.457072</td>\n",
       "      <td>-8.209190</td>\n",
       "      <td>5.163970</td>\n",
       "      <td>0</td>\n",
       "      <td>h</td>\n",
       "    </tr>\n",
       "    <tr>\n",
       "      <th>32991</th>\n",
       "      <td>5.886480</td>\n",
       "      <td>1.567730</td>\n",
       "      <td>0.694869</td>\n",
       "      <td>0.033027</td>\n",
       "      <td>50</td>\n",
       "      <td>h</td>\n",
       "    </tr>\n",
       "    <tr>\n",
       "      <th>86484</th>\n",
       "      <td>0.694819</td>\n",
       "      <td>0.154145</td>\n",
       "      <td>-0.071381</td>\n",
       "      <td>2.199140</td>\n",
       "      <td>80</td>\n",
       "      <td>h</td>\n",
       "    </tr>\n",
       "    <tr>\n",
       "      <th>58871</th>\n",
       "      <td>-1.894020</td>\n",
       "      <td>-12.437300</td>\n",
       "      <td>5.662290</td>\n",
       "      <td>0.037025</td>\n",
       "      <td>40</td>\n",
       "      <td>h</td>\n",
       "    </tr>\n",
       "    <tr>\n",
       "      <th>98543</th>\n",
       "      <td>3.026530</td>\n",
       "      <td>0.173869</td>\n",
       "      <td>1.851130</td>\n",
       "      <td>-3.089420</td>\n",
       "      <td>20</td>\n",
       "      <td>h</td>\n",
       "    </tr>\n",
       "  </tbody>\n",
       "</table>\n",
       "</div>"
      ],
      "text/plain": [
       "              a1         a2        a3        a4  load state\n",
       "95963   5.625170  -4.037420  0.545325  1.058100    80     h\n",
       "75749  -2.154870  -2.007390  2.642950  2.795610    40     h\n",
       "27234 -28.114000   2.430660 -3.334540 -8.453190    30     h\n",
       "72971   0.071242   2.308260 -1.128090  2.755080    70     h\n",
       "85056   8.902000   0.331709 -0.975257 -4.921800    80     h\n",
       "84279  -1.879070   0.457072 -8.209190  5.163970     0     h\n",
       "32991   5.886480   1.567730  0.694869  0.033027    50     h\n",
       "86484   0.694819   0.154145 -0.071381  2.199140    80     h\n",
       "58871  -1.894020 -12.437300  5.662290  0.037025    40     h\n",
       "98543   3.026530   0.173869  1.851130 -3.089420    20     h"
      ]
     },
     "execution_count": 65,
     "metadata": {},
     "output_type": "execute_result"
    }
   ],
   "source": [
    "df.sample(10)"
   ]
  },
  {
   "cell_type": "code",
   "execution_count": 77,
   "id": "51ac043b",
   "metadata": {},
   "outputs": [
    {
     "data": {
      "text/plain": [
       "array([0])"
      ]
     },
     "execution_count": 77,
     "metadata": {},
     "output_type": "execute_result"
    }
   ],
   "source": [
    "from sklearn import preprocessing \n",
    "  \n",
    "# label_encoder object knows  \n",
    "# how to understand word labels. \n",
    "label_encoder = preprocessing.LabelEncoder() \n",
    "  \n",
    "# Encode labels in column 'species'. \n",
    "df['state']= label_encoder.fit_transform(df['state']) \n",
    "  \n",
    "df['state'].unique()"
   ]
  },
  {
   "cell_type": "code",
   "execution_count": 78,
   "id": "7f0a30a4",
   "metadata": {},
   "outputs": [
    {
     "data": {
      "text/html": [
       "<div>\n",
       "<style scoped>\n",
       "    .dataframe tbody tr th:only-of-type {\n",
       "        vertical-align: middle;\n",
       "    }\n",
       "\n",
       "    .dataframe tbody tr th {\n",
       "        vertical-align: top;\n",
       "    }\n",
       "\n",
       "    .dataframe thead th {\n",
       "        text-align: right;\n",
       "    }\n",
       "</style>\n",
       "<table border=\"1\" class=\"dataframe\">\n",
       "  <thead>\n",
       "    <tr style=\"text-align: right;\">\n",
       "      <th></th>\n",
       "      <th>a1</th>\n",
       "      <th>a2</th>\n",
       "      <th>a3</th>\n",
       "      <th>a4</th>\n",
       "      <th>load</th>\n",
       "      <th>state</th>\n",
       "    </tr>\n",
       "  </thead>\n",
       "  <tbody>\n",
       "    <tr>\n",
       "      <th>0</th>\n",
       "      <td>4.636710</td>\n",
       "      <td>0.516978</td>\n",
       "      <td>-3.205940</td>\n",
       "      <td>1.82241</td>\n",
       "      <td>0</td>\n",
       "      <td>0</td>\n",
       "    </tr>\n",
       "    <tr>\n",
       "      <th>1</th>\n",
       "      <td>1.992800</td>\n",
       "      <td>4.184660</td>\n",
       "      <td>-2.740610</td>\n",
       "      <td>2.80436</td>\n",
       "      <td>0</td>\n",
       "      <td>0</td>\n",
       "    </tr>\n",
       "    <tr>\n",
       "      <th>2</th>\n",
       "      <td>-3.764110</td>\n",
       "      <td>0.997335</td>\n",
       "      <td>-1.303090</td>\n",
       "      <td>1.83668</td>\n",
       "      <td>0</td>\n",
       "      <td>0</td>\n",
       "    </tr>\n",
       "    <tr>\n",
       "      <th>3</th>\n",
       "      <td>-4.558710</td>\n",
       "      <td>6.104330</td>\n",
       "      <td>-1.720690</td>\n",
       "      <td>1.72311</td>\n",
       "      <td>0</td>\n",
       "      <td>0</td>\n",
       "    </tr>\n",
       "    <tr>\n",
       "      <th>4</th>\n",
       "      <td>0.575382</td>\n",
       "      <td>0.170980</td>\n",
       "      <td>-0.497967</td>\n",
       "      <td>-1.32895</td>\n",
       "      <td>0</td>\n",
       "      <td>0</td>\n",
       "    </tr>\n",
       "  </tbody>\n",
       "</table>\n",
       "</div>"
      ],
      "text/plain": [
       "         a1        a2        a3       a4  load  state\n",
       "0  4.636710  0.516978 -3.205940  1.82241     0      0\n",
       "1  1.992800  4.184660 -2.740610  2.80436     0      0\n",
       "2 -3.764110  0.997335 -1.303090  1.83668     0      0\n",
       "3 -4.558710  6.104330 -1.720690  1.72311     0      0\n",
       "4  0.575382  0.170980 -0.497967 -1.32895     0      0"
      ]
     },
     "execution_count": 78,
     "metadata": {},
     "output_type": "execute_result"
    }
   ],
   "source": [
    "df.head()"
   ]
  },
  {
   "cell_type": "code",
   "execution_count": 80,
   "id": "2f4907b2",
   "metadata": {},
   "outputs": [],
   "source": [
    "temp = df.drop(['load'],axis=1)"
   ]
  },
  {
   "cell_type": "code",
   "execution_count": 81,
   "id": "78fc0f18",
   "metadata": {},
   "outputs": [],
   "source": [
    "from sklearn.model_selection import train_test_split \n",
    "x = df.drop(['state'],axis=1) \n",
    "y = df[['state']]"
   ]
  },
  {
   "cell_type": "code",
   "execution_count": 82,
   "id": "b9bc405d",
   "metadata": {},
   "outputs": [
    {
     "data": {
      "text/html": [
       "<div>\n",
       "<style scoped>\n",
       "    .dataframe tbody tr th:only-of-type {\n",
       "        vertical-align: middle;\n",
       "    }\n",
       "\n",
       "    .dataframe tbody tr th {\n",
       "        vertical-align: top;\n",
       "    }\n",
       "\n",
       "    .dataframe thead th {\n",
       "        text-align: right;\n",
       "    }\n",
       "</style>\n",
       "<table border=\"1\" class=\"dataframe\">\n",
       "  <thead>\n",
       "    <tr style=\"text-align: right;\">\n",
       "      <th></th>\n",
       "      <th>a1</th>\n",
       "      <th>a2</th>\n",
       "      <th>a3</th>\n",
       "      <th>a4</th>\n",
       "      <th>load</th>\n",
       "    </tr>\n",
       "  </thead>\n",
       "  <tbody>\n",
       "    <tr>\n",
       "      <th>0</th>\n",
       "      <td>4.636710</td>\n",
       "      <td>0.516978</td>\n",
       "      <td>-3.205940</td>\n",
       "      <td>1.82241</td>\n",
       "      <td>0</td>\n",
       "    </tr>\n",
       "    <tr>\n",
       "      <th>1</th>\n",
       "      <td>1.992800</td>\n",
       "      <td>4.184660</td>\n",
       "      <td>-2.740610</td>\n",
       "      <td>2.80436</td>\n",
       "      <td>0</td>\n",
       "    </tr>\n",
       "    <tr>\n",
       "      <th>2</th>\n",
       "      <td>-3.764110</td>\n",
       "      <td>0.997335</td>\n",
       "      <td>-1.303090</td>\n",
       "      <td>1.83668</td>\n",
       "      <td>0</td>\n",
       "    </tr>\n",
       "    <tr>\n",
       "      <th>3</th>\n",
       "      <td>-4.558710</td>\n",
       "      <td>6.104330</td>\n",
       "      <td>-1.720690</td>\n",
       "      <td>1.72311</td>\n",
       "      <td>0</td>\n",
       "    </tr>\n",
       "    <tr>\n",
       "      <th>4</th>\n",
       "      <td>0.575382</td>\n",
       "      <td>0.170980</td>\n",
       "      <td>-0.497967</td>\n",
       "      <td>-1.32895</td>\n",
       "      <td>0</td>\n",
       "    </tr>\n",
       "  </tbody>\n",
       "</table>\n",
       "</div>"
      ],
      "text/plain": [
       "         a1        a2        a3       a4  load\n",
       "0  4.636710  0.516978 -3.205940  1.82241     0\n",
       "1  1.992800  4.184660 -2.740610  2.80436     0\n",
       "2 -3.764110  0.997335 -1.303090  1.83668     0\n",
       "3 -4.558710  6.104330 -1.720690  1.72311     0\n",
       "4  0.575382  0.170980 -0.497967 -1.32895     0"
      ]
     },
     "execution_count": 82,
     "metadata": {},
     "output_type": "execute_result"
    }
   ],
   "source": [
    "x.head()"
   ]
  },
  {
   "cell_type": "code",
   "execution_count": 92,
   "id": "082c754f",
   "metadata": {},
   "outputs": [
    {
     "data": {
      "text/html": [
       "<div>\n",
       "<style scoped>\n",
       "    .dataframe tbody tr th:only-of-type {\n",
       "        vertical-align: middle;\n",
       "    }\n",
       "\n",
       "    .dataframe tbody tr th {\n",
       "        vertical-align: top;\n",
       "    }\n",
       "\n",
       "    .dataframe thead th {\n",
       "        text-align: right;\n",
       "    }\n",
       "</style>\n",
       "<table border=\"1\" class=\"dataframe\">\n",
       "  <thead>\n",
       "    <tr style=\"text-align: right;\">\n",
       "      <th></th>\n",
       "      <th>state</th>\n",
       "    </tr>\n",
       "  </thead>\n",
       "  <tbody>\n",
       "    <tr>\n",
       "      <th>0</th>\n",
       "      <td>0</td>\n",
       "    </tr>\n",
       "    <tr>\n",
       "      <th>1</th>\n",
       "      <td>0</td>\n",
       "    </tr>\n",
       "    <tr>\n",
       "      <th>2</th>\n",
       "      <td>0</td>\n",
       "    </tr>\n",
       "    <tr>\n",
       "      <th>3</th>\n",
       "      <td>0</td>\n",
       "    </tr>\n",
       "    <tr>\n",
       "      <th>4</th>\n",
       "      <td>0</td>\n",
       "    </tr>\n",
       "  </tbody>\n",
       "</table>\n",
       "</div>"
      ],
      "text/plain": [
       "   state\n",
       "0      0\n",
       "1      0\n",
       "2      0\n",
       "3      0\n",
       "4      0"
      ]
     },
     "execution_count": 92,
     "metadata": {},
     "output_type": "execute_result"
    }
   ],
   "source": [
    "y.head()"
   ]
  },
  {
   "cell_type": "code",
   "execution_count": 83,
   "id": "252558f3",
   "metadata": {},
   "outputs": [],
   "source": [
    "x_train,x_test, y_train, y_test = train_test_split(x,y,random_state=104,test_size=0.25,shuffle=True)"
   ]
  },
  {
   "cell_type": "code",
   "execution_count": 84,
   "id": "8bdacaad",
   "metadata": {},
   "outputs": [
    {
     "data": {
      "text/html": [
       "<style>#sk-container-id-1 {color: black;background-color: white;}#sk-container-id-1 pre{padding: 0;}#sk-container-id-1 div.sk-toggleable {background-color: white;}#sk-container-id-1 label.sk-toggleable__label {cursor: pointer;display: block;width: 100%;margin-bottom: 0;padding: 0.3em;box-sizing: border-box;text-align: center;}#sk-container-id-1 label.sk-toggleable__label-arrow:before {content: \"▸\";float: left;margin-right: 0.25em;color: #696969;}#sk-container-id-1 label.sk-toggleable__label-arrow:hover:before {color: black;}#sk-container-id-1 div.sk-estimator:hover label.sk-toggleable__label-arrow:before {color: black;}#sk-container-id-1 div.sk-toggleable__content {max-height: 0;max-width: 0;overflow: hidden;text-align: left;background-color: #f0f8ff;}#sk-container-id-1 div.sk-toggleable__content pre {margin: 0.2em;color: black;border-radius: 0.25em;background-color: #f0f8ff;}#sk-container-id-1 input.sk-toggleable__control:checked~div.sk-toggleable__content {max-height: 200px;max-width: 100%;overflow: auto;}#sk-container-id-1 input.sk-toggleable__control:checked~label.sk-toggleable__label-arrow:before {content: \"▾\";}#sk-container-id-1 div.sk-estimator input.sk-toggleable__control:checked~label.sk-toggleable__label {background-color: #d4ebff;}#sk-container-id-1 div.sk-label input.sk-toggleable__control:checked~label.sk-toggleable__label {background-color: #d4ebff;}#sk-container-id-1 input.sk-hidden--visually {border: 0;clip: rect(1px 1px 1px 1px);clip: rect(1px, 1px, 1px, 1px);height: 1px;margin: -1px;overflow: hidden;padding: 0;position: absolute;width: 1px;}#sk-container-id-1 div.sk-estimator {font-family: monospace;background-color: #f0f8ff;border: 1px dotted black;border-radius: 0.25em;box-sizing: border-box;margin-bottom: 0.5em;}#sk-container-id-1 div.sk-estimator:hover {background-color: #d4ebff;}#sk-container-id-1 div.sk-parallel-item::after {content: \"\";width: 100%;border-bottom: 1px solid gray;flex-grow: 1;}#sk-container-id-1 div.sk-label:hover label.sk-toggleable__label {background-color: #d4ebff;}#sk-container-id-1 div.sk-serial::before {content: \"\";position: absolute;border-left: 1px solid gray;box-sizing: border-box;top: 0;bottom: 0;left: 50%;z-index: 0;}#sk-container-id-1 div.sk-serial {display: flex;flex-direction: column;align-items: center;background-color: white;padding-right: 0.2em;padding-left: 0.2em;position: relative;}#sk-container-id-1 div.sk-item {position: relative;z-index: 1;}#sk-container-id-1 div.sk-parallel {display: flex;align-items: stretch;justify-content: center;background-color: white;position: relative;}#sk-container-id-1 div.sk-item::before, #sk-container-id-1 div.sk-parallel-item::before {content: \"\";position: absolute;border-left: 1px solid gray;box-sizing: border-box;top: 0;bottom: 0;left: 50%;z-index: -1;}#sk-container-id-1 div.sk-parallel-item {display: flex;flex-direction: column;z-index: 1;position: relative;background-color: white;}#sk-container-id-1 div.sk-parallel-item:first-child::after {align-self: flex-end;width: 50%;}#sk-container-id-1 div.sk-parallel-item:last-child::after {align-self: flex-start;width: 50%;}#sk-container-id-1 div.sk-parallel-item:only-child::after {width: 0;}#sk-container-id-1 div.sk-dashed-wrapped {border: 1px dashed gray;margin: 0 0.4em 0.5em 0.4em;box-sizing: border-box;padding-bottom: 0.4em;background-color: white;}#sk-container-id-1 div.sk-label label {font-family: monospace;font-weight: bold;display: inline-block;line-height: 1.2em;}#sk-container-id-1 div.sk-label-container {text-align: center;}#sk-container-id-1 div.sk-container {/* jupyter's `normalize.less` sets `[hidden] { display: none; }` but bootstrap.min.css set `[hidden] { display: none !important; }` so we also need the `!important` here to be able to override the default hidden behavior on the sphinx rendered scikit-learn.org. See: https://github.com/scikit-learn/scikit-learn/issues/21755 */display: inline-block !important;position: relative;}#sk-container-id-1 div.sk-text-repr-fallback {display: none;}</style><div id=\"sk-container-id-1\" class=\"sk-top-container\"><div class=\"sk-text-repr-fallback\"><pre>LinearRegression()</pre><b>In a Jupyter environment, please rerun this cell to show the HTML representation or trust the notebook. <br />On GitHub, the HTML representation is unable to render, please try loading this page with nbviewer.org.</b></div><div class=\"sk-container\" hidden><div class=\"sk-item\"><div class=\"sk-estimator sk-toggleable\"><input class=\"sk-toggleable__control sk-hidden--visually\" id=\"sk-estimator-id-1\" type=\"checkbox\" checked><label for=\"sk-estimator-id-1\" class=\"sk-toggleable__label sk-toggleable__label-arrow\">LinearRegression</label><div class=\"sk-toggleable__content\"><pre>LinearRegression()</pre></div></div></div></div></div>"
      ],
      "text/plain": [
       "LinearRegression()"
      ]
     },
     "execution_count": 84,
     "metadata": {},
     "output_type": "execute_result"
    }
   ],
   "source": [
    "from sklearn import linear_model\n",
    "\n",
    "logr = linear_model.LinearRegression()\n",
    "logr.fit(x_train,y_train)"
   ]
  },
  {
   "cell_type": "code",
   "execution_count": 85,
   "id": "3305c33e",
   "metadata": {},
   "outputs": [],
   "source": [
    "y_predicted = logr.predict(x_test)"
   ]
  },
  {
   "cell_type": "code",
   "execution_count": 89,
   "id": "db889b8d",
   "metadata": {},
   "outputs": [],
   "source": [
    "from sklearn.metrics import r2_score"
   ]
  },
  {
   "cell_type": "code",
   "execution_count": 90,
   "id": "e57ba496",
   "metadata": {},
   "outputs": [],
   "source": [
    "r2 = r2_score(y_test,y_predicted)"
   ]
  },
  {
   "cell_type": "code",
   "execution_count": 95,
   "id": "3140d89c",
   "metadata": {},
   "outputs": [
    {
     "data": {
      "text/plain": [
       "100.0"
      ]
     },
     "execution_count": 95,
     "metadata": {},
     "output_type": "execute_result"
    }
   ],
   "source": [
    "r2*100"
   ]
  },
  {
   "cell_type": "code",
   "execution_count": null,
   "id": "6b311343",
   "metadata": {},
   "outputs": [],
   "source": []
  },
  {
   "cell_type": "code",
   "execution_count": null,
   "id": "7e5bb21a",
   "metadata": {},
   "outputs": [],
   "source": []
  }
 ],
 "metadata": {
  "kernelspec": {
   "display_name": "Python 3 (ipykernel)",
   "language": "python",
   "name": "python3"
  },
  "language_info": {
   "codemirror_mode": {
    "name": "ipython",
    "version": 3
   },
   "file_extension": ".py",
   "mimetype": "text/x-python",
   "name": "python",
   "nbconvert_exporter": "python",
   "pygments_lexer": "ipython3",
   "version": "3.10.9"
  }
 },
 "nbformat": 4,
 "nbformat_minor": 5
}
